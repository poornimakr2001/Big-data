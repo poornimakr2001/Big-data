{
  "nbformat": 4,
  "nbformat_minor": 0,
  "metadata": {
    "colab": {
      "provenance": [],
      "authorship_tag": "ABX9TyOLFWqnqieW4ZP9xYmJwGni",
      "include_colab_link": true
    },
    "kernelspec": {
      "name": "python3",
      "display_name": "Python 3"
    },
    "language_info": {
      "name": "python"
    }
  },
  "cells": [
    {
      "cell_type": "markdown",
      "metadata": {
        "id": "view-in-github",
        "colab_type": "text"
      },
      "source": [
        "<a href=\"https://colab.research.google.com/github/poornimakr2001/Big-data/blob/main/spark_py.ipynb\" target=\"_parent\"><img src=\"https://colab.research.google.com/assets/colab-badge.svg\" alt=\"Open In Colab\"/></a>"
      ]
    },
    {
      "cell_type": "code",
      "execution_count": 4,
      "metadata": {
        "colab": {
          "base_uri": "https://localhost:8080/"
        },
        "id": "BDjkoCuYq4w4",
        "outputId": "a64cc0a1-6ac6-49e0-f62e-2f48ca59b22c"
      },
      "outputs": [
        {
          "output_type": "stream",
          "name": "stdout",
          "text": [
            "+-----+---+\n",
            "| Name|Age|\n",
            "+-----+---+\n",
            "|Alice| 34|\n",
            "|  Bob| 45|\n",
            "|Cathy| 29|\n",
            "|David| 42|\n",
            "+-----+---+\n",
            "\n",
            "+-----+---+\n",
            "| Name|Age|\n",
            "+-----+---+\n",
            "|Alice| 34|\n",
            "|  Bob| 45|\n",
            "|David| 42|\n",
            "+-----+---+\n",
            "\n",
            "+---+-----+\n",
            "|Age|count|\n",
            "+---+-----+\n",
            "| 34|    1|\n",
            "| 45|    1|\n",
            "| 29|    1|\n",
            "| 42|    1|\n",
            "+---+-----+\n",
            "\n",
            "+--------+\n",
            "|avg(Age)|\n",
            "+--------+\n",
            "|    37.5|\n",
            "+--------+\n",
            "\n"
          ]
        }
      ],
      "source": [
        "from pyspark.sql import SparkSession\n",
        "\n",
        "# Initialize a Spark session\n",
        "spark = SparkSession.builder \\\n",
        "    .appName(\"Simple Big Data Project\") \\\n",
        "    .getOrCreate()\n",
        "data = [(\"Alice\", 34), (\"Bob\", 45), (\"Cathy\", 29), (\"David\", 42)]\n",
        "columns = [\"Name\", \"Age\"]\n",
        "\n",
        "# Create DataFrame\n",
        "df = spark.createDataFrame(data, columns)\n",
        "df.show()\n",
        "# Filter DataFrame\n",
        "df_filtered = df.filter(df.Age > 30)\n",
        "df_filtered.show()\n",
        "\n",
        "# Group by and aggregate\n",
        "df_grouped = df.groupBy(\"Age\").count()\n",
        "df_grouped.show()\n",
        "\n",
        "# Calculate average age\n",
        "df_avg_age = df.agg({\"Age\": \"avg\"})\n",
        "df_avg_age.show()\n",
        "df.write.csv(\"output.csv\")\n"
      ]
    },
    {
      "cell_type": "code",
      "source": [
        "!pip install pyspark\n"
      ],
      "metadata": {
        "colab": {
          "base_uri": "https://localhost:8080/"
        },
        "id": "yIIPQNqerqrw",
        "outputId": "2b5af81e-7151-45b2-d6f0-6be94560f005"
      },
      "execution_count": 3,
      "outputs": [
        {
          "output_type": "stream",
          "name": "stdout",
          "text": [
            "Collecting pyspark\n",
            "  Downloading pyspark-3.5.1.tar.gz (317.0 MB)\n",
            "\u001b[2K     \u001b[90m━━━━━━━━━━━━━━━━━━━━━━━━━━━━━━━━━━━━━━━━\u001b[0m \u001b[32m317.0/317.0 MB\u001b[0m \u001b[31m3.4 MB/s\u001b[0m eta \u001b[36m0:00:00\u001b[0m\n",
            "\u001b[?25h  Preparing metadata (setup.py) ... \u001b[?25l\u001b[?25hdone\n",
            "Requirement already satisfied: py4j==0.10.9.7 in /usr/local/lib/python3.10/dist-packages (from pyspark) (0.10.9.7)\n",
            "Building wheels for collected packages: pyspark\n",
            "  Building wheel for pyspark (setup.py) ... \u001b[?25l\u001b[?25hdone\n",
            "  Created wheel for pyspark: filename=pyspark-3.5.1-py2.py3-none-any.whl size=317488491 sha256=1329a77b01362e06a94d99869ccd9ca212faf738faf82f4810ead40880fd54a3\n",
            "  Stored in directory: /root/.cache/pip/wheels/80/1d/60/2c256ed38dddce2fdd93be545214a63e02fbd8d74fb0b7f3a6\n",
            "Successfully built pyspark\n",
            "Installing collected packages: pyspark\n",
            "Successfully installed pyspark-3.5.1\n"
          ]
        }
      ]
    }
  ]
}