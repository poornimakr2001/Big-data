{
  "nbformat": 4,
  "nbformat_minor": 0,
  "metadata": {
    "colab": {
      "provenance": [],
      "authorship_tag": "ABX9TyNBlv1m1DtwwZugti/Ldgxk",
      "include_colab_link": true
    },
    "kernelspec": {
      "name": "python3",
      "display_name": "Python 3"
    },
    "language_info": {
      "name": "python"
    }
  },
  "cells": [
    {
      "cell_type": "markdown",
      "metadata": {
        "id": "view-in-github",
        "colab_type": "text"
      },
      "source": [
        "<a href=\"https://colab.research.google.com/github/poornimakr2001/Big-data/blob/main/mapreduce.ipynb\" target=\"_parent\"><img src=\"https://colab.research.google.com/assets/colab-badge.svg\" alt=\"Open In Colab\"/></a>"
      ]
    },
    {
      "cell_type": "code",
      "execution_count": 1,
      "metadata": {
        "colab": {
          "base_uri": "https://localhost:8080/"
        },
        "id": "t-1Zn2BuxcES",
        "outputId": "f4438533-7f84-49a4-af50-bdca4061178c"
      },
      "outputs": [
        {
          "output_type": "stream",
          "name": "stdout",
          "text": [
            "mapreduce: 2\n",
            "is: 1\n",
            "a: 1\n",
            "programming: 1\n",
            "model: 1\n",
            "for: 1\n",
            "processing: 1\n",
            "large: 1\n",
            "datasets.: 1\n",
            "can: 1\n",
            "be: 1\n",
            "used: 1\n",
            "to: 1\n",
            "perform: 1\n",
            "distributed: 1\n",
            "processing.: 1\n"
          ]
        }
      ],
      "source": [
        "from functools import reduce\n",
        "\n",
        "# Sample text (usually, this would be a large dataset)\n",
        "text = \"\"\"\n",
        "MapReduce is a programming model for processing large datasets.\n",
        "MapReduce can be used to perform distributed processing.\n",
        "\"\"\"\n",
        "\n",
        "# Step 1: Map Function\n",
        "# Split text into words and map them to (word, 1)\n",
        "def map_function(text):\n",
        "    words = text.lower().split()\n",
        "    return [(word, 1) for word in words]\n",
        "\n",
        "mapped_words = map_function(text)\n",
        "\n",
        "# Step 2: Shuffle and Sort (This is usually done by the framework, we simulate it here)\n",
        "# Group the words together by their key (the word)\n",
        "def shuffle_sort(mapped_words):\n",
        "    word_dict = {}\n",
        "    for word, count in mapped_words:\n",
        "        if word in word_dict:\n",
        "            word_dict[word].append(count)\n",
        "        else:\n",
        "            word_dict[word] = [count]\n",
        "    return word_dict\n",
        "\n",
        "shuffled_words = shuffle_sort(mapped_words)\n",
        "\n",
        "# Step 3: Reduce Function\n",
        "# Sum the values for each word to get the total count\n",
        "def reduce_function(word, counts):\n",
        "    return (word, sum(counts))\n",
        "\n",
        "reduced_words = [reduce_function(word, counts) for word, counts in shuffled_words.items()]\n",
        "\n",
        "# Output the results\n",
        "for word, count in reduced_words:\n",
        "    print(f\"{word}: {count}\")\n"
      ]
    }
  ]
}